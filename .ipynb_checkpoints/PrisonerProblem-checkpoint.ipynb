{
 "cells": [
  {
   "cell_type": "markdown",
   "id": "96bcfabb-21fe-4899-8b36-8ec3610ec3b0",
   "metadata": {},
   "source": [
    "Prisoner Problem"
   ]
  },
  {
   "cell_type": "code",
   "execution_count": 59,
   "id": "a095ec02-fa1a-4f78-bfd9-b75de1835fb9",
   "metadata": {},
   "outputs": [],
   "source": [
    "# 100 prisoners numbers 1 - 100\n",
    "# Slip with there numbers are randomly placed in 100 boxes in a room\n",
    "# Each prisonoer may enter the room one at a time and check 50 boxes\n",
    "# They must levae the room exactly as they found it and cant communicate with the others after\n",
    "# If all 100 prisoners find their number, they all will be freed. But even one fails, they all will be executed"
   ]
  },
  {
   "cell_type": "code",
   "execution_count": 60,
   "id": "84ed2af0-8b3e-4118-9808-a8907bb35f7f",
   "metadata": {},
   "outputs": [],
   "source": [
    "import numpy as np\n",
    "import random"
   ]
  },
  {
   "cell_type": "code",
   "execution_count": 61,
   "id": "06fa0fce-1026-4d3b-8315-cb6b241cb57f",
   "metadata": {},
   "outputs": [
    {
     "name": "stdout",
     "output_type": "stream",
     "text": [
      "Prisoner Problem\n"
     ]
    }
   ],
   "source": [
    "print(\"Prisoner Problem\")"
   ]
  },
  {
   "cell_type": "code",
   "execution_count": 62,
   "id": "4ec4d3d2-66fe-4b5c-9c7d-1ffccfc6ea00",
   "metadata": {},
   "outputs": [],
   "source": [
    "# Create the list\n",
    "boxlist = np.arange(1, 101).tolist()"
   ]
  },
  {
   "cell_type": "code",
   "execution_count": 63,
   "id": "81d9614b-d0e3-43b4-820d-8200bbbe3278",
   "metadata": {},
   "outputs": [],
   "source": [
    "# Randomize the list\n",
    "random.shuffle(boxlist)"
   ]
  },
  {
   "cell_type": "code",
   "execution_count": 64,
   "id": "394e7739-0aa1-4e8e-99f9-04fb3bd51a65",
   "metadata": {},
   "outputs": [
    {
     "name": "stdout",
     "output_type": "stream",
     "text": [
      "[94, 39, 17, 21, 97, 27, 69, 8, 48, 32, 90, 58, 13, 89, 53, 49, 4, 81, 12, 71, 40, 87, 76, 62, 29, 79, 93, 63, 25, 64, 52, 9, 47, 36, 50, 54, 59, 43, 68, 77, 51, 66, 100, 99, 37, 33, 86, 30, 18, 31, 35, 83, 16, 91, 60, 80, 88, 7, 98, 23, 28, 1, 56, 2, 5, 95, 15, 73, 67, 70, 24, 38, 61, 14, 72, 57, 46, 85, 45, 20, 41, 42, 22, 6, 78, 75, 82, 96, 3, 11, 10, 65, 34, 92, 74, 55, 19, 44, 84, 26]\n"
     ]
    }
   ],
   "source": [
    "print(boxlist)"
   ]
  },
  {
   "cell_type": "code",
   "execution_count": 65,
   "id": "a3bb9f3d-ea41-4854-a221-9311b0e377d6",
   "metadata": {},
   "outputs": [],
   "source": [
    "# number of prisoners who found the correct box with their number\n",
    "num_of_success = 0"
   ]
  },
  {
   "cell_type": "markdown",
   "id": "01cacce9-4e03-4d43-afc8-834659699292",
   "metadata": {},
   "source": [
    "Loop method"
   ]
  },
  {
   "cell_type": "code",
   "execution_count": 66,
   "id": "446cdc63-1e76-4cdb-920a-3dd521ceb5fa",
   "metadata": {},
   "outputs": [],
   "source": [
    "# iterate 100 times to simulate 100 prisoners checking 50 boxes\n",
    "for prisoner_num in range(1,4):\n",
    "    \n",
    "    # looped boxes that has been checked by the prisoner\n",
    "    loop_boxes = []\n",
    "\n",
    "    # Select a random box to start looping\n",
    "    current_box = np.random.choice(boxlist) \n",
    "    \n",
    "    while (len(loop_boxes) < 50):\n",
    "        # print(f'Prisoner number {prisoner_num} just checked the box number {current_box} and found number {boxlist[current_box-1]}')\n",
    "\n",
    "        if prisoner_num == boxlist[current_box-1]:\n",
    "            # print(f'Prisoner number {prisoner_num} has found his number from box number {current_box}')\n",
    "\n",
    "            # increment the number of succeed prisoners\n",
    "            num_of_success += 1\n",
    "            break\n",
    "\n",
    "        current_box = boxlist[current_box-1]\n",
    "\n",
    "        # Check if the new current box has been already checked\n",
    "        if current_box in loop_boxes :\n",
    "            \n",
    "            # print(f'Loop ended and repeated number {current_box}')\n",
    "            \n",
    "            # Select a random box to start looping until it selsect an unchecked box\n",
    "            while current_box in loop_boxes:\n",
    "                current_box = np.random.choice(boxlist)\n",
    "                # print(f'New random number {current_box} has been selected')\n",
    "\n",
    "        # Adding newly cehcked box to looped box list\n",
    "        loop_boxes.append(current_box)\n",
    "        "
   ]
  },
  {
   "cell_type": "code",
   "execution_count": 67,
   "id": "ae0276ef-3a3c-44a5-88b9-3e03b1b52f6c",
   "metadata": {},
   "outputs": [
    {
     "name": "stdout",
     "output_type": "stream",
     "text": [
      "Number of sucseed prisoners = 3\n",
      "Probability = 0.03\n"
     ]
    }
   ],
   "source": [
    "print(f'Number of sucseed prisoners = {num_of_success}')\n",
    "print(f'Probability = {num_of_success/100}')"
   ]
  },
  {
   "cell_type": "markdown",
   "id": "7535a26e-e3ce-4e03-9d3e-289d6be61077",
   "metadata": {},
   "source": [
    "Normal method"
   ]
  },
  {
   "cell_type": "code",
   "execution_count": 65,
   "id": "aa5b9c07-d4bd-4edd-9042-5c9fb005ab27",
   "metadata": {},
   "outputs": [],
   "source": [
    "# iterate 100 times to simulate 100 prisoners checking 50 boxes\n",
    "for prisoner_num in range(1,101):\n",
    "    # random boxes that has been checked by the prisoner\n",
    "    random_boxes = random.sample(boxlist, 50)\n",
    "    \n",
    "    # check the random 50 boxes until it gets the correct number\n",
    "    for number_in_box in random_boxes:\n",
    "\n",
    "        if number_in_box == prisoner_num:\n",
    "            #print(f'Prisoner number {prisoner_num} has found his number from box number {boxlist.index(number_in_box)+1}')\n",
    "\n",
    "            # increment the number of succeed prisoners\n",
    "            num_of_success += 1\n",
    "            break          "
   ]
  },
  {
   "cell_type": "code",
   "execution_count": null,
   "id": "38b5415f-19af-4425-8077-9d51aae644dd",
   "metadata": {},
   "outputs": [],
   "source": []
  },
  {
   "cell_type": "code",
   "execution_count": null,
   "id": "a257bed2-e78b-4d1d-aadf-d97a1c50441a",
   "metadata": {},
   "outputs": [],
   "source": []
  }
 ],
 "metadata": {
  "kernelspec": {
   "display_name": "Python 3 (ipykernel)",
   "language": "python",
   "name": "python3"
  },
  "language_info": {
   "codemirror_mode": {
    "name": "ipython",
    "version": 3
   },
   "file_extension": ".py",
   "mimetype": "text/x-python",
   "name": "python",
   "nbconvert_exporter": "python",
   "pygments_lexer": "ipython3",
   "version": "3.11.5"
  }
 },
 "nbformat": 4,
 "nbformat_minor": 5
}
