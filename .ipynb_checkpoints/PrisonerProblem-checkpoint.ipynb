{
 "cells": [
  {
   "cell_type": "markdown",
   "id": "7aeb50d9-9cd1-4f2f-b29f-ee0ad36fa4a7",
   "metadata": {},
   "source": [
    "Prisoner Problem"
   ]
  },
  {
   "cell_type": "code",
   "execution_count": 74,
   "id": "a095ec02-fa1a-4f78-bfd9-b75de1835fb9",
   "metadata": {},
   "outputs": [],
   "source": [
    "# 100 prisoners numbers 1 - 100\n",
    "# Slip with there numbers are randomly placed in 100 boxes in a room\n",
    "# Each prisonoer may enter the room one at a time and check 50 boxes\n",
    "# They must levae the room exactly as they found it and cant communicate with the others after\n",
    "# If all 100 prisoners find their number, they all will be freed. But even one fails, they all will be executed"
   ]
  },
  {
   "cell_type": "code",
   "execution_count": 75,
   "id": "84ed2af0-8b3e-4118-9808-a8907bb35f7f",
   "metadata": {},
   "outputs": [],
   "source": [
    "import numpy as np\n",
    "import random"
   ]
  },
  {
   "cell_type": "code",
   "execution_count": 76,
   "id": "5875fe05-9f26-441d-be2b-f7a7b5e917c1",
   "metadata": {},
   "outputs": [],
   "source": [
    "# custom method to randomize box list\n",
    "def ran_boxlist():\n",
    "    boxlist = np.arange(1, 101).tolist()\n",
    "    random.shuffle(boxlist)\n",
    "    return boxlist"
   ]
  },
  {
   "cell_type": "markdown",
   "id": "01cacce9-4e03-4d43-afc8-834659699292",
   "metadata": {},
   "source": [
    "Loop method"
   ]
  },
  {
   "cell_type": "code",
   "execution_count": 77,
   "id": "446cdc63-1e76-4cdb-920a-3dd521ceb5fa",
   "metadata": {},
   "outputs": [],
   "source": [
    "# method to simulate box checking pattern (loop)\n",
    "def check_boxes(boxlist, prisoner_num):\n",
    "    current_box = prisoner_num # Select own number to start looping\n",
    "    boxes_checked = 0\n",
    "    \n",
    "    while True:\n",
    "        if prisoner_num == boxlist[current_box-1]:\n",
    "            # print(f'Prisoner number {prisoner_num} has found his number from box number {current_box}')\n",
    "            return True\n",
    "\n",
    "        boxes_checked += 1\n",
    "        if boxes_checked >= 50:\n",
    "            # fails to found the correct number within 50 chances\n",
    "            return False        \n",
    "        current_box = boxlist[current_box-1]\n",
    "\n",
    "# method to simulate 100 prisoners checking boxes\n",
    "def loop_method():\n",
    "    boxlist = ran_boxlist()\n",
    "    # iterate 100 times to simulate 100 prisoners\n",
    "    for prisoner_num in range(1,101):\n",
    "        if not check_boxes(boxlist, prisoner_num):\n",
    "            # if one prisoner fails to found the correct number\n",
    "            return False\n",
    "\n",
    "    # all prisoners have found the correct number .... wow :D \n",
    "    return True    "
   ]
  },
  {
   "cell_type": "code",
   "execution_count": null,
   "id": "7e7d4739-0ac8-42e9-9e49-cb7652be74e9",
   "metadata": {},
   "outputs": [],
   "source": [
    "# checks 50 randomly selected boxes to find their number\n",
    "def check_random_boxes():\n",
    "    boxlist = ran_boxlist()\n",
    "\n",
    "    for prisoner_num in range(1, 101):\n",
    "        # Randomly select 50 boxes\n",
    "        random_boxes = random.sample(boxlist, 50)\n",
    "        \n",
    "        # Check if the prisoners number is in the selected boxes\n",
    "        if prisoner_num in random_boxes:\n",
    "            # print(f'Prisoner number {prisoner_num} found his number in the random boxes.')\n",
    "            num_of_success += 1\n",
    "        else:\n",
    "            # if one prisoner fails to found the correct number\n",
    "            return False\n",
    "\n",
    "    # Return True if all prisoners found their number\n",
    "    return True"
   ]
  },
  {
   "cell_type": "code",
   "execution_count": 78,
   "id": "74ea88ef-9f21-49d3-bfe4-2cfe6602592e",
   "metadata": {},
   "outputs": [],
   "source": [
    "# custom func to repat one method to calculate probability\n",
    "def reapat_method(method, num_of_iterations):\n",
    "    times_all_succeed = 0\n",
    "    \n",
    "    for iteration in range(num_of_iterations):\n",
    "        all_freed = method()\n",
    "\n",
    "        if all_freed:\n",
    "            times_all_succeed+=1\n",
    "\n",
    "    summary = f'Probability of all been freed with {num_of_iterations} iterations = {times_all_succeed/num_of_iterations}'\n",
    "    return summary    "
   ]
  },
  {
   "cell_type": "code",
   "execution_count": 79,
   "id": "94bf793a-68d0-4f04-9688-874f671b000d",
   "metadata": {},
   "outputs": [
    {
     "name": "stdout",
     "output_type": "stream",
     "text": [
      "Probability of all been freed with 10000 iterations = 0.3117\n"
     ]
    }
   ],
   "source": [
    "print(reapat_method(loop_method,10000))"
   ]
  }
 ],
 "metadata": {
  "kernelspec": {
   "display_name": "Python 3 (ipykernel)",
   "language": "python",
   "name": "python3"
  },
  "language_info": {
   "codemirror_mode": {
    "name": "ipython",
    "version": 3
   },
   "file_extension": ".py",
   "mimetype": "text/x-python",
   "name": "python",
   "nbconvert_exporter": "python",
   "pygments_lexer": "ipython3",
   "version": "3.11.5"
  }
 },
 "nbformat": 4,
 "nbformat_minor": 5
}
