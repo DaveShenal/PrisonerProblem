{
 "cells": [
  {
   "cell_type": "markdown",
   "id": "7aeb50d9-9cd1-4f2f-b29f-ee0ad36fa4a7",
   "metadata": {},
   "source": [
    "Prisoner Problem"
   ]
  },
  {
   "cell_type": "code",
   "execution_count": 44,
   "id": "a095ec02-fa1a-4f78-bfd9-b75de1835fb9",
   "metadata": {},
   "outputs": [],
   "source": [
    "# 100 prisoners numbers 1 - 100\n",
    "# Slip with there numbers are randomly placed in 100 boxes in a room\n",
    "# Each prisonoer may enter the room one at a time and check 50 boxes\n",
    "# They must levae the room exactly as they found it and cant communicate with the others after\n",
    "# If all 100 prisoners find their number, they all will be freed. But even one fails, they all will be executed"
   ]
  },
  {
   "cell_type": "code",
   "execution_count": 66,
   "id": "84ed2af0-8b3e-4118-9808-a8907bb35f7f",
   "metadata": {},
   "outputs": [],
   "source": [
    "import numpy as np\n",
    "import random"
   ]
  },
  {
   "cell_type": "code",
   "execution_count": 67,
   "id": "5875fe05-9f26-441d-be2b-f7a7b5e917c1",
   "metadata": {},
   "outputs": [],
   "source": [
    "# custom method to randomize box list\n",
    "def ran_boxlist():\n",
    "    boxlist = np.arange(1, 101).tolist()\n",
    "    random.shuffle(boxlist)\n",
    "    return boxlist"
   ]
  },
  {
   "cell_type": "markdown",
   "id": "01cacce9-4e03-4d43-afc8-834659699292",
   "metadata": {},
   "source": [
    "Loop method"
   ]
  },
  {
   "cell_type": "code",
   "execution_count": 69,
   "id": "446cdc63-1e76-4cdb-920a-3dd521ceb5fa",
   "metadata": {},
   "outputs": [],
   "source": [
    "# method to simulate loop method\n",
    "def check_boxes(boxlist, prisoner_num):\n",
    "    current_box = prisoner_num # Select own number to start looping\n",
    "    boxes_checked = 0\n",
    "    \n",
    "    while True:\n",
    "        if prisoner_num == boxlist[current_box-1]:\n",
    "            # print(f'Prisoner number {prisoner_num} has found his number from box number {current_box}')\n",
    "            return True\n",
    "\n",
    "        boxes_checked += 1\n",
    "        if boxes_checked >= 50:\n",
    "            # fails to found the correct number within 50 chances\n",
    "            return False\n",
    "        \n",
    "        current_box = boxlist[current_box-1]\n",
    "\n",
    "def loop_method():\n",
    "    boxlist = ran_boxlist()\n",
    "    # iterate 100 times to simulate 100 prisoners\n",
    "    for prisoner_num in range(1,101):\n",
    "        if not check_boxes(boxlist, prisoner_num):\n",
    "            # if one prisoner fails to found the correct number\n",
    "            return False\n",
    "\n",
    "    # all prisoners have found the correct number .... wow :D \n",
    "    return True    "
   ]
  },
  {
   "cell_type": "code",
   "execution_count": 70,
   "id": "74ea88ef-9f21-49d3-bfe4-2cfe6602592e",
   "metadata": {},
   "outputs": [],
   "source": [
    "# custom func to repat one method to calculate probability\n",
    "def reapat_method(method, num_of_iterations):\n",
    "    times_all_succeed = 0\n",
    "    \n",
    "    for iteration in range(num_of_iterations):\n",
    "        all_freed = method()\n",
    "\n",
    "        if all_freed:\n",
    "            times_all_succeed+=1\n",
    "\n",
    "    summary = f'Probability of all been freed with {num_of_iterations} iterations = {times_all_succeed/num_of_iterations}'\n",
    "    return summary    "
   ]
  },
  {
   "cell_type": "code",
   "execution_count": 71,
   "id": "94bf793a-68d0-4f04-9688-874f671b000d",
   "metadata": {},
   "outputs": [
    {
     "name": "stdout",
     "output_type": "stream",
     "text": [
      "Probability of all been freed with 10000 iterations = 0.3203\n"
     ]
    }
   ],
   "source": [
    "print(reapat_method(loop_method,10000))"
   ]
  },
  {
   "cell_type": "markdown",
   "id": "7535a26e-e3ce-4e03-9d3e-289d6be61077",
   "metadata": {},
   "source": [
    "Normal method"
   ]
  },
  {
   "cell_type": "code",
   "execution_count": 65,
   "id": "aa5b9c07-d4bd-4edd-9042-5c9fb005ab27",
   "metadata": {},
   "outputs": [],
   "source": [
    "# iterate 100 times to simulate 100 prisoners checking 50 boxes\n",
    "for prisoner_num in range(1,101):\n",
    "    # random boxes that has been checked by the prisoner\n",
    "    random_boxes = random.sample(boxlist, 50)\n",
    "    \n",
    "    # check the random 50 boxes until it gets the correct number\n",
    "    for number_in_box in random_boxes:\n",
    "\n",
    "        if number_in_box == prisoner_num:\n",
    "            #print(f'Prisoner number {prisoner_num} has found his number from box number {boxlist.index(number_in_box)+1}')\n",
    "\n",
    "            # increment the number of succeed prisoners\n",
    "            num_of_success += 1\n",
    "            break          "
   ]
  }
 ],
 "metadata": {
  "kernelspec": {
   "display_name": "Python 3 (ipykernel)",
   "language": "python",
   "name": "python3"
  },
  "language_info": {
   "codemirror_mode": {
    "name": "ipython",
    "version": 3
   },
   "file_extension": ".py",
   "mimetype": "text/x-python",
   "name": "python",
   "nbconvert_exporter": "python",
   "pygments_lexer": "ipython3",
   "version": "3.11.5"
  }
 },
 "nbformat": 4,
 "nbformat_minor": 5
}
