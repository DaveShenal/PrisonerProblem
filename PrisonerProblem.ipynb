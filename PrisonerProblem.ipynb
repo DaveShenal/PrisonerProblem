{
 "cells": [
  {
   "cell_type": "markdown",
   "id": "96bcfabb-21fe-4899-8b36-8ec3610ec3b0",
   "metadata": {},
   "source": [
    "Prisoner Problem"
   ]
  },
  {
   "cell_type": "code",
   "execution_count": null,
   "id": "a095ec02-fa1a-4f78-bfd9-b75de1835fb9",
   "metadata": {},
   "outputs": [],
   "source": [
    "# 100 prisoners numbers 1 - 100\n",
    "# Slip with there numbers are randomly placed in 100 boxes in a room\n",
    "# Each prisonoer may enter the room one at a time and check 50 boxes\n",
    "# They must levae the room exactly as they found it and cant communicate with the others after\n",
    "# If all 100 prisoners find their number, they all will be freed. But even one fails, they all will be executed"
   ]
  },
  {
   "cell_type": "code",
   "execution_count": 7,
   "id": "84ed2af0-8b3e-4118-9808-a8907bb35f7f",
   "metadata": {},
   "outputs": [],
   "source": [
    "import numpy as np\n",
    "import random"
   ]
  },
  {
   "cell_type": "code",
   "execution_count": 8,
   "id": "06fa0fce-1026-4d3b-8315-cb6b241cb57f",
   "metadata": {},
   "outputs": [
    {
     "name": "stdout",
     "output_type": "stream",
     "text": [
      "Prisoner Problem\n"
     ]
    }
   ],
   "source": [
    "print(\"Prisoner Problem\")"
   ]
  },
  {
   "cell_type": "code",
   "execution_count": 91,
   "id": "4ec4d3d2-66fe-4b5c-9c7d-1ffccfc6ea00",
   "metadata": {},
   "outputs": [],
   "source": [
    "# Create the list\n",
    "boxlist = np.arange(1, 101).tolist()"
   ]
  },
  {
   "cell_type": "code",
   "execution_count": 92,
   "id": "81d9614b-d0e3-43b4-820d-8200bbbe3278",
   "metadata": {},
   "outputs": [],
   "source": [
    "# Randomize the list\n",
    "random.shuffle(boxlist)"
   ]
  },
  {
   "cell_type": "code",
   "execution_count": 93,
   "id": "394e7739-0aa1-4e8e-99f9-04fb3bd51a65",
   "metadata": {},
   "outputs": [
    {
     "name": "stdout",
     "output_type": "stream",
     "text": [
      "[65, 95, 40, 61, 38, 26, 19, 53, 9, 15, 4, 7, 39, 60, 11, 81, 3, 46, 70, 51, 43, 98, 97, 67, 54, 83, 62, 29, 66, 74, 56, 34, 10, 79, 1, 76, 22, 47, 45, 55, 89, 82, 41, 87, 23, 13, 59, 96, 21, 64, 27, 31, 8, 37, 33, 36, 48, 73, 92, 72, 100, 17, 90, 24, 91, 84, 6, 94, 30, 35, 44, 25, 69, 20, 78, 93, 80, 32, 57, 52, 16, 71, 18, 77, 75, 42, 49, 12, 58, 14, 50, 86, 88, 5, 85, 28, 99, 2, 63, 68]\n"
     ]
    }
   ],
   "source": [
    "print(boxlist)"
   ]
  },
  {
   "cell_type": "code",
   "execution_count": 94,
   "id": "a3bb9f3d-ea41-4854-a221-9311b0e377d6",
   "metadata": {},
   "outputs": [],
   "source": [
    "# number of prisoners who found the correct box with their number\n",
    "num_of_success = 0"
   ]
  },
  {
   "cell_type": "markdown",
   "id": "7535a26e-e3ce-4e03-9d3e-289d6be61077",
   "metadata": {},
   "source": [
    "Normal method"
   ]
  },
  {
   "cell_type": "code",
   "execution_count": 65,
   "id": "aa5b9c07-d4bd-4edd-9042-5c9fb005ab27",
   "metadata": {},
   "outputs": [],
   "source": [
    "# iterate 100 times to simulate 100 prisoners checking 50 boxes\n",
    "for prisoner_num in range(1,101):\n",
    "    # random boxes that has been checked by the prisoner\n",
    "    random_boxes = random.sample(boxlist, 50)\n",
    "    \n",
    "    # check the random 50 boxes until it gets the correct number\n",
    "    for number_in_box in random_boxes:\n",
    "\n",
    "        if number_in_box == prisoner_num:\n",
    "            #print(f'Prisoner number {prisoner_num} has found his number from box number {boxlist.index(number_in_box)+1}')\n",
    "\n",
    "            # increment the number of succeed prisoners\n",
    "            num_of_success += 1\n",
    "            break          "
   ]
  },
  {
   "cell_type": "markdown",
   "id": "01cacce9-4e03-4d43-afc8-834659699292",
   "metadata": {},
   "source": [
    "Loop method"
   ]
  },
  {
   "cell_type": "code",
   "execution_count": 95,
   "id": "446cdc63-1e76-4cdb-920a-3dd521ceb5fa",
   "metadata": {},
   "outputs": [
    {
     "name": "stdout",
     "output_type": "stream",
     "text": [
      "Prisoner number 2 has found his number from box number 98\n",
      "Prisoner number 10 has found his number from box number 33\n",
      "Prisoner number 12 has found his number from box number 88\n",
      "Prisoner number 14 has found his number from box number 90\n",
      "Prisoner number 15 has found his number from box number 10\n",
      "Prisoner number 17 has found his number from box number 62\n",
      "Prisoner number 18 has found his number from box number 83\n",
      "Prisoner number 19 has found his number from box number 7\n",
      "Prisoner number 20 has found his number from box number 74\n",
      "Prisoner number 22 has found his number from box number 37\n",
      "Prisoner number 24 has found his number from box number 64\n",
      "Prisoner number 26 has found his number from box number 6\n",
      "Prisoner number 27 has found his number from box number 51\n",
      "Prisoner number 28 has found his number from box number 96\n",
      "Prisoner number 29 has found his number from box number 28\n",
      "Prisoner number 31 has found his number from box number 52\n",
      "Prisoner number 32 has found his number from box number 78\n",
      "Prisoner number 34 has found his number from box number 32\n",
      "Prisoner number 35 has found his number from box number 70\n",
      "Prisoner number 37 has found his number from box number 54\n",
      "Prisoner number 38 has found his number from box number 5\n",
      "Prisoner number 39 has found his number from box number 13\n",
      "Prisoner number 40 has found his number from box number 3\n",
      "Prisoner number 42 has found his number from box number 86\n",
      "Prisoner number 43 has found his number from box number 21\n",
      "Prisoner number 46 has found his number from box number 18\n",
      "Prisoner number 48 has found his number from box number 57\n",
      "Prisoner number 50 has found his number from box number 91\n",
      "Prisoner number 52 has found his number from box number 80\n",
      "Prisoner number 55 has found his number from box number 40\n",
      "Prisoner number 56 has found his number from box number 31\n",
      "Prisoner number 57 has found his number from box number 79\n",
      "Prisoner number 59 has found his number from box number 47\n",
      "Prisoner number 61 has found his number from box number 4\n",
      "Prisoner number 62 has found his number from box number 27\n",
      "Prisoner number 65 has found his number from box number 1\n",
      "Prisoner number 66 has found his number from box number 29\n",
      "Prisoner number 69 has found his number from box number 73\n",
      "Prisoner number 70 has found his number from box number 19\n",
      "Prisoner number 72 has found his number from box number 60\n",
      "Prisoner number 77 has found his number from box number 84\n",
      "Prisoner number 79 has found his number from box number 34\n",
      "Prisoner number 80 has found his number from box number 77\n",
      "Prisoner number 82 has found his number from box number 42\n",
      "Prisoner number 83 has found his number from box number 26\n",
      "Prisoner number 84 has found his number from box number 66\n",
      "Prisoner number 85 has found his number from box number 95\n",
      "Prisoner number 87 has found his number from box number 44\n",
      "Prisoner number 89 has found his number from box number 41\n",
      "Prisoner number 91 has found his number from box number 65\n",
      "Prisoner number 92 has found his number from box number 59\n",
      "Prisoner number 93 has found his number from box number 76\n",
      "Prisoner number 95 has found his number from box number 2\n",
      "Prisoner number 96 has found his number from box number 48\n",
      "Prisoner number 97 has found his number from box number 23\n",
      "Prisoner number 98 has found his number from box number 22\n"
     ]
    }
   ],
   "source": [
    "# iterate 100 times to simulate 100 prisoners checking 50 boxes\n",
    "for prisoner_num in range(1,101):\n",
    "    # looped boxes that has been checked by the prisoner\n",
    "    loop_boxes = []\n",
    "\n",
    "    # Select a random box to start looping\n",
    "    current_box = np.random.choice(boxlist)        \n",
    "    \n",
    "    # follow the looped boxes until open 50 boxes or find correct prisoner number\n",
    "    number_of_box_checked = 0\n",
    "    \n",
    "    while (number_of_box_checked < 51):\n",
    "        number_of_box_checked += 1\n",
    "\n",
    "        if prisoner_num == boxlist[current_box-1]:\n",
    "            print(f'Prisoner number {prisoner_num} has found his number from box number {current_box}')\n",
    "\n",
    "            # increment the number of succeed prisoners\n",
    "            num_of_success += 1\n",
    "            break   \n",
    "    \n",
    "        current_box = boxlist[current_box-1]\n",
    "        \n",
    "        if current_box in loop_boxes :\n",
    "            while True:\n",
    "                # Select a random box to start looping\n",
    "                current_box = np.random.choice(boxlist)\n",
    "                \n",
    "                # Check if the box is not already checked/looped\n",
    "                if current_box not in loop_boxes:\n",
    "                    loop_boxes.append(current_box)\n",
    "                    break\n",
    "            \n",
    "        loop_boxes.append(current_box)\n",
    "        "
   ]
  },
  {
   "cell_type": "code",
   "execution_count": 96,
   "id": "ae0276ef-3a3c-44a5-88b9-3e03b1b52f6c",
   "metadata": {},
   "outputs": [
    {
     "name": "stdout",
     "output_type": "stream",
     "text": [
      "Number of sucseed prisoners = 56\n",
      "Probability = 0.56\n"
     ]
    }
   ],
   "source": [
    "print(f'Number of sucseed prisoners = {num_of_success}')\n",
    "print(f'Probability = {num_of_success/100}')"
   ]
  },
  {
   "cell_type": "code",
   "execution_count": null,
   "id": "38b5415f-19af-4425-8077-9d51aae644dd",
   "metadata": {},
   "outputs": [],
   "source": []
  },
  {
   "cell_type": "code",
   "execution_count": null,
   "id": "a257bed2-e78b-4d1d-aadf-d97a1c50441a",
   "metadata": {},
   "outputs": [],
   "source": []
  }
 ],
 "metadata": {
  "kernelspec": {
   "display_name": "Python 3 (ipykernel)",
   "language": "python",
   "name": "python3"
  },
  "language_info": {
   "codemirror_mode": {
    "name": "ipython",
    "version": 3
   },
   "file_extension": ".py",
   "mimetype": "text/x-python",
   "name": "python",
   "nbconvert_exporter": "python",
   "pygments_lexer": "ipython3",
   "version": "3.11.5"
  }
 },
 "nbformat": 4,
 "nbformat_minor": 5
}
