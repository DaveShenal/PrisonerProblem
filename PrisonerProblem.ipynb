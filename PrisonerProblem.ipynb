{
 "cells": [
  {
   "cell_type": "markdown",
   "id": "96bcfabb-21fe-4899-8b36-8ec3610ec3b0",
   "metadata": {},
   "source": [
    "Prisoner Problem"
   ]
  },
  {
   "cell_type": "code",
   "execution_count": 2,
   "id": "a095ec02-fa1a-4f78-bfd9-b75de1835fb9",
   "metadata": {},
   "outputs": [],
   "source": [
    "# 100 prisoners numbers 1 - 100\n",
    "# Slip with there numbers are randomly placed in 100 boxes in a room\n",
    "# Each prisonoer may enter the room one at a time and check 50 boxes\n",
    "# They must levae the room exactly as they found it and cant communicate with the others after\n",
    "# If all 100 prisoners find their number, they all will be freed. But even one fails, they all will be executed"
   ]
  },
  {
   "cell_type": "code",
   "execution_count": 3,
   "id": "84ed2af0-8b3e-4118-9808-a8907bb35f7f",
   "metadata": {},
   "outputs": [],
   "source": [
    "import numpy as np\n",
    "import random"
   ]
  },
  {
   "cell_type": "code",
   "execution_count": 4,
   "id": "06fa0fce-1026-4d3b-8315-cb6b241cb57f",
   "metadata": {},
   "outputs": [
    {
     "name": "stdout",
     "output_type": "stream",
     "text": [
      "Prisoner Problem\n"
     ]
    }
   ],
   "source": [
    "print(\"Prisoner Problem\")"
   ]
  },
  {
   "cell_type": "code",
   "execution_count": 5,
   "id": "4ec4d3d2-66fe-4b5c-9c7d-1ffccfc6ea00",
   "metadata": {},
   "outputs": [],
   "source": [
    "# Create the list\n",
    "boxlist = np.arange(1, 101).tolist()"
   ]
  },
  {
   "cell_type": "code",
   "execution_count": 6,
   "id": "5875fe05-9f26-441d-be2b-f7a7b5e917c1",
   "metadata": {},
   "outputs": [],
   "source": [
    "# custom method to randomize box list\n",
    "def ran_boxlist():\n",
    "    random.shuffle(boxlist)"
   ]
  },
  {
   "cell_type": "code",
   "execution_count": 67,
   "id": "ae0276ef-3a3c-44a5-88b9-3e03b1b52f6c",
   "metadata": {},
   "outputs": [
    {
     "name": "stdout",
     "output_type": "stream",
     "text": [
      "Number of sucseed prisoners = 3\n",
      "Probability = 0.03\n"
     ]
    }
   ],
   "source": [
    "def print_probability(num_of_success):\n",
    "    print(f'Number of sucseed prisoners = {num_of_success}')\n",
    "    print(f'Probability = {num_of_success/100}')"
   ]
  },
  {
   "cell_type": "markdown",
   "id": "01cacce9-4e03-4d43-afc8-834659699292",
   "metadata": {},
   "source": [
    "Loop method"
   ]
  },
  {
   "cell_type": "code",
   "execution_count": 66,
   "id": "446cdc63-1e76-4cdb-920a-3dd521ceb5fa",
   "metadata": {},
   "outputs": [],
   "source": [
    "# method to simulate loop method\n",
    "def loop_method(boxlist):\n",
    "    num_of_prisoners = len(boxlist) \n",
    "    num_of_boxes_to_check = num_of_prisoners/2 # assume num_of_prisoners is always even !!\n",
    "\n",
    "    # iterate 100 times to simulate 100 prisoners checking 50 boxes\n",
    "    for prisoner_num in range(1,number_of_prisoners+1):\n",
    "        \n",
    "        # looped boxes that has been checked by the prisoner\n",
    "        loop_boxes = []\n",
    "    \n",
    "        # Select a random box to start looping\n",
    "        current_box = np.random.choice(boxlist) \n",
    "        \n",
    "        while True:\n",
    "            # if at least one prisoner fails to found the correct number within 50 chances\n",
    "            if len(loop_boxes) >= num_of_boxes_to_check:\n",
    "                return False\n",
    "                \n",
    "            # print(f'Prisoner number {prisoner_num} just checked the box number {current_box} and found number {boxlist[current_box-1]}')\n",
    "    \n",
    "            if prisoner_num == boxlist[current_box-1]:\n",
    "                # print(f'Prisoner number {prisoner_num} has found his number from box number {current_box}')\n",
    "                break\n",
    "    \n",
    "            current_box = boxlist[current_box-1]\n",
    "    \n",
    "            # Check if the new current box has been already checked\n",
    "            if current_box in loop_boxes :\n",
    "                \n",
    "                # print(f'Loop ended and repeated number {current_box}')\n",
    "                \n",
    "                # Select a random box to start looping until it selsect an unchecked box\n",
    "                while current_box in loop_boxes:\n",
    "                    current_box = np.random.choice(boxlist)\n",
    "                    # print(f'New random number {current_box} has been selected')\n",
    "    \n",
    "            # Adding newly cehcked box to looped box list\n",
    "            loop_boxes.append(current_box)\n",
    "    \n",
    "     return True       "
   ]
  },
  {
   "cell_type": "code",
   "execution_count": null,
   "id": "74ea88ef-9f21-49d3-bfe4-2cfe6602592e",
   "metadata": {},
   "outputs": [],
   "source": [
    "# custom func to repat one method to calculate probability\n",
    "def reapat_method(method,num_of_iterations):\n",
    "    for iteration in range(num_of_iterations):\n",
    "        method(ran_boxlist())\n",
    "    "
   ]
  },
  {
   "cell_type": "markdown",
   "id": "7535a26e-e3ce-4e03-9d3e-289d6be61077",
   "metadata": {},
   "source": [
    "Normal method"
   ]
  },
  {
   "cell_type": "code",
   "execution_count": 65,
   "id": "aa5b9c07-d4bd-4edd-9042-5c9fb005ab27",
   "metadata": {},
   "outputs": [],
   "source": [
    "# iterate 100 times to simulate 100 prisoners checking 50 boxes\n",
    "for prisoner_num in range(1,101):\n",
    "    # random boxes that has been checked by the prisoner\n",
    "    random_boxes = random.sample(boxlist, 50)\n",
    "    \n",
    "    # check the random 50 boxes until it gets the correct number\n",
    "    for number_in_box in random_boxes:\n",
    "\n",
    "        if number_in_box == prisoner_num:\n",
    "            #print(f'Prisoner number {prisoner_num} has found his number from box number {boxlist.index(number_in_box)+1}')\n",
    "\n",
    "            # increment the number of succeed prisoners\n",
    "            num_of_success += 1\n",
    "            break          "
   ]
  },
  {
   "cell_type": "code",
   "execution_count": null,
   "id": "38b5415f-19af-4425-8077-9d51aae644dd",
   "metadata": {},
   "outputs": [],
   "source": []
  },
  {
   "cell_type": "code",
   "execution_count": null,
   "id": "a257bed2-e78b-4d1d-aadf-d97a1c50441a",
   "metadata": {},
   "outputs": [],
   "source": []
  }
 ],
 "metadata": {
  "kernelspec": {
   "display_name": "Python 3 (ipykernel)",
   "language": "python",
   "name": "python3"
  },
  "language_info": {
   "codemirror_mode": {
    "name": "ipython",
    "version": 3
   },
   "file_extension": ".py",
   "mimetype": "text/x-python",
   "name": "python",
   "nbconvert_exporter": "python",
   "pygments_lexer": "ipython3",
   "version": "3.11.5"
  }
 },
 "nbformat": 4,
 "nbformat_minor": 5
}
